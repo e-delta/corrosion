{
 "cells": [
  {
   "cell_type": "code",
   "execution_count": null,
   "metadata": {},
   "outputs": [],
   "source": [
    "import tensorflow as tf\n",
    "import keras\n",
    "from keras.models import Sequential\n",
    "from keras.layers import Dense, Dropout, Flatten\n",
    "from keras.layers import Conv2D, MaxPooling2D\n",
    "from keras import backend as K\n",
    "from sklearn.model_selection import train_test_split\n",
    "import dakpy\n",
    "import cv2\n",
    "import numpy as np\n",
    "import os"
   ]
  },
  {
   "cell_type": "code",
   "execution_count": null,
   "metadata": {},
   "outputs": [],
   "source": [
    "#preping the file paths so that each is in numerical order\n",
    "\n",
    "\n",
    "a = os.listdir('/Users/gem/Desktop/Corrosion Data/Mono/Ground Truth')\n",
    "b = os.listdir('/Users/gem/Desktop/Corrosion Data/Mono/Depth')\n",
    "c = os.listdir('/Users/gem/Desktop/Corrosion Data/Non Mono/Ground Truth')\n",
    "d = os.listdir('/Users/gem/Desktop/Corrosion Data/Non Mono/Depth')\n",
    "\n",
    "a.sort()\n",
    "b.sort()\n",
    "c.sort()\n",
    "d.sort()\n",
    "\n",
    "a = sorted(a, key=len)\n",
    "b = sorted(b, key=len)\n",
    "c = sorted(c, key=len)\n",
    "d = sorted(d, key=len)"
   ]
  },
  {
   "cell_type": "code",
   "execution_count": null,
   "metadata": {},
   "outputs": [],
   "source": [
    "#run this cell to remove unwanted items in each list\n",
    "\n",
    "b.remove('.DS_Store')\n",
    "c.remove('.DS_Store')\n",
    "d.remove('.DS_Store')"
   ]
  },
  {
   "cell_type": "code",
   "execution_count": null,
   "metadata": {},
   "outputs": [],
   "source": [
    "#run this cell to append the full path to each item in each list\n",
    "\n",
    "\n",
    "for i in range(len(a)):\n",
    "    a[i] = '/Users/gem/Desktop/Corrosion Data/Mono/Ground Truth/' + a[i]\n",
    "for i in range(len(b)):\n",
    "    b[i] = '/Users/gem/Desktop/Corrosion Data/Mono/Depth/' + b[i]\n",
    "for i in range(len(c)):\n",
    "    c[i] = '/Users/gem/Desktop/Corrosion Data/Non Mono/Ground Truth/' + c[i]\n",
    "for i in range(len(d)):\n",
    "    d[i] = '/Users/gem/Desktop/Corrosion Data/Non Mono/Depth/' + d[i]"
   ]
  },
  {
   "cell_type": "code",
   "execution_count": null,
   "metadata": {},
   "outputs": [],
   "source": [
    "#alternative files for debugging\n",
    "\n",
    "a = os.listdir('/Users/gem/Desktop/Corrosion Data Copy/Non Mono/Ground Truth')\n",
    "b = os.listdir('/Users/gem/Desktop/Corrosion Data Copy/Non Mono/Depth')\n",
    "\n",
    "\n",
    "a.sort()\n",
    "b.sort()\n",
    "\n",
    "a = sorted(a, key=len)\n",
    "b = sorted(b, key=len)\n",
    "\n",
    "a.remove('.DS_Store')\n",
    "b.remove('.DS_Store')\n",
    "\n",
    "for i in range(len(a)):\n",
    "    a[i] = '/Users/gem/Desktop/Corrosion Data Copy/Non Mono/Ground Truth/' + a[i]\n",
    "for i in range(len(b)):\n",
    "    b[i] = '/Users/gem/Desktop/Corrosion Data Copy/Non Mono/Depth/' + b[i]\n",
    "    \n",
    "a = a[0:10]\n",
    "b = b[0:10]"
   ]
  },
  {
   "cell_type": "code",
   "execution_count": null,
   "metadata": {},
   "outputs": [],
   "source": [
    "#using the dakpy module to get the training images for the mono dataset. Each training image has a raduis of 5\n",
    "#and a center pixel to classify and is therefore 11X11. That paramter could be changed here in the get_train fuction though\n",
    "data = []\n",
    "for i, j in zip(a,b):\n",
    "    data.append(dakpy.get_train(i, j, 5))"
   ]
  },
  {
   "cell_type": "code",
   "execution_count": null,
   "metadata": {},
   "outputs": [],
   "source": [
    "#using the dakpy module to get the training images for the non mono dataset.\n",
    "data1 = []\n",
    "for i, j in zip(c,d):\n",
    "    data1.append(dakpy.get_train(i, j, 5))"
   ]
  },
  {
   "cell_type": "code",
   "execution_count": null,
   "metadata": {},
   "outputs": [],
   "source": [
    "#this cell makes a list \n",
    "t = []\n",
    "for i in range(25):      \n",
    "    t.append(data[i][1])"
   ]
  },
  {
   "cell_type": "code",
   "execution_count": null,
   "metadata": {},
   "outputs": [],
   "source": [
    "t1 = []\n",
    "for i in range(25):\n",
    "    t1.append(data1[i][1])"
   ]
  },
  {
   "cell_type": "code",
   "execution_count": null,
   "metadata": {},
   "outputs": [],
   "source": [
    "z1_train = np.concatenate(t, axis=0)"
   ]
  },
  {
   "cell_type": "code",
   "execution_count": null,
   "metadata": {},
   "outputs": [],
   "source": [
    "z2_train = np.concatenate(t1, axis=0)"
   ]
  },
  {
   "cell_type": "code",
   "execution_count": null,
   "metadata": {},
   "outputs": [],
   "source": [
    "h = []\n",
    "for i in range(25): \n",
    "    h.append(data[i][0][:, 0])"
   ]
  },
  {
   "cell_type": "code",
   "execution_count": null,
   "metadata": {},
   "outputs": [],
   "source": [
    "h1 = []\n",
    "for i in range(25):\n",
    "    h1.append(data1[i][0][:, 0])"
   ]
  },
  {
   "cell_type": "code",
   "execution_count": null,
   "metadata": {},
   "outputs": [],
   "source": [
    "w1_train = np.concatenate(h, axis=None)"
   ]
  },
  {
   "cell_type": "code",
   "execution_count": null,
   "metadata": {},
   "outputs": [],
   "source": [
    "w2_train = np.concatenate(h1, axis=None)"
   ]
  },
  {
   "cell_type": "code",
   "execution_count": null,
   "metadata": {},
   "outputs": [],
   "source": [
    "z_train = np.concatenate((z1_train, z2_train), axis=0)"
   ]
  },
  {
   "cell_type": "code",
   "execution_count": null,
   "metadata": {},
   "outputs": [],
   "source": [
    "w_train = np.concatenate((w1_train, w2_train), axis=None)"
   ]
  },
  {
   "cell_type": "code",
   "execution_count": null,
   "metadata": {},
   "outputs": [],
   "source": [
    "z1_train.shape"
   ]
  },
  {
   "cell_type": "code",
   "execution_count": null,
   "metadata": {},
   "outputs": [],
   "source": [
    "w1_train.shape"
   ]
  },
  {
   "cell_type": "code",
   "execution_count": null,
   "metadata": {},
   "outputs": [],
   "source": [
    "x_train, x_test, y_train, y_test = train_test_split(z1_train, w1_train, test_size = .2)"
   ]
  },
  {
   "cell_type": "code",
   "execution_count": null,
   "metadata": {},
   "outputs": [],
   "source": [
    "#Give the negative labels 0 rather than -1\n",
    "\n",
    "for i in range(len(y_train)):\n",
    "    if y_train[i] < 0:\n",
    "        y_train[i] = 0\n",
    "for i in range(len(y_test)):\n",
    "    if y_test[i] < 0:\n",
    "        y_test[i] = 0"
   ]
  },
  {
   "cell_type": "code",
   "execution_count": null,
   "metadata": {},
   "outputs": [],
   "source": [
    "#The CNN\n",
    "\n",
    "\n",
    "batch_size = 128\n",
    "num_classes = 2\n",
    "epochs = 10\n",
    "\n",
    "# input image dimensions\n",
    "img_rows, img_cols = 11, 11\n",
    "\n",
    "if K.image_data_format() == 'channels_first':\n",
    "    x_train = x_train.reshape(x_train.shape[0], 1, img_rows, img_cols)\n",
    "    x_test = x_test.reshape(x_test.shape[0], 1, img_rows, img_cols)\n",
    "    input_shape = (1, img_rows, img_cols)\n",
    "else:\n",
    "    x_train = x_train.reshape(x_train.shape[0], img_rows, img_cols, 1)\n",
    "    x_test = x_test.reshape(x_test.shape[0], img_rows, img_cols, 1)\n",
    "    input_shape = (img_rows, img_cols, 1)\n",
    "\n",
    "#parse the data type to 32 bit floats and normalize. The input images have been read in as 16 bit integers from the\n",
    "#dakpy module\n",
    "x_train = x_train.astype('float32')\n",
    "x_test = x_test.astype('float32')\n",
    "x_train /= 65535\n",
    "x_test /= 65535\n",
    "\n",
    "print('x_train shape:', x_train.shape)\n",
    "print(x_train.shape[0], 'train samples')\n",
    "print(x_test.shape[0], 'test samples')\n",
    "\n",
    "# convert class vectors to binary class matrices for use in categorical crossentropy\n",
    "y_train = keras.utils.to_categorical(y_train, num_classes)\n",
    "y_test = keras.utils.to_categorical(y_test, num_classes)\n",
    "\n",
    "model = Sequential()\n",
    "model.add(Conv2D(32, kernel_size=(3, 3),\n",
    "                 activation='relu',\n",
    "                 input_shape=input_shape))\n",
    "model.add(Conv2D(64, (3, 3), activation='relu'))\n",
    "model.add(MaxPooling2D(pool_size=(2, 2)))\n",
    "model.add(Dropout(0.25))\n",
    "model.add(Flatten())\n",
    "model.add(Dense(128, activation='relu'))\n",
    "model.add(Dropout(0.5))\n",
    "model.add(Dense(num_classes, activation='softmax'))\n",
    "\n",
    "model.compile(loss=keras.losses.categorical_crossentropy,\n",
    "              optimizer=keras.optimizers.Adadelta(),\n",
    "              metrics=['accuracy'])\n",
    "\n",
    "model.fit(x_train, y_train,\n",
    "          batch_size=batch_size,\n",
    "          epochs=epochs,\n",
    "          verbose=1,\n",
    "          validation_data=(x_test, y_test))\n",
    "score = model.evaluate(x_test, y_test, verbose=0)\n",
    "print('Test loss:', score[0])\n",
    "print('Test accuracy:', score[1])"
   ]
  },
  {
   "cell_type": "code",
   "execution_count": null,
   "metadata": {},
   "outputs": [],
   "source": [
    "p_1 = model.predict(dakpy.get_full('/Users/gem/Desktop/Corrosion Data/Non Mono/Depth/Depth_non_1.png', 5).reshape(160000, 11, 11, 1))"
   ]
  },
  {
   "cell_type": "code",
   "execution_count": null,
   "metadata": {},
   "outputs": [],
   "source": [
    "p_1 = np.delete(p_1, 1, 1)"
   ]
  },
  {
   "cell_type": "code",
   "execution_count": null,
   "metadata": {},
   "outputs": [],
   "source": [
    "p_1 = p_1.reshape(400, 400)"
   ]
  },
  {
   "cell_type": "code",
   "execution_count": null,
   "metadata": {},
   "outputs": [],
   "source": [
    "np.unique(p_1)"
   ]
  },
  {
   "cell_type": "code",
   "execution_count": null,
   "metadata": {},
   "outputs": [],
   "source": [
    "for i in range(400):\n",
    "    for j in range(400):\n",
    "        if p_1[i, j] > .5:\n",
    "            p_1[i, j] = 255\n",
    "        else:\n",
    "            p_1[i, j] = 0"
   ]
  }
 ],
 "metadata": {
  "kernelspec": {
   "display_name": "Python 3",
   "language": "python",
   "name": "python3"
  },
  "language_info": {
   "codemirror_mode": {
    "name": "ipython",
    "version": 3
   },
   "file_extension": ".py",
   "mimetype": "text/x-python",
   "name": "python",
   "nbconvert_exporter": "python",
   "pygments_lexer": "ipython3",
   "version": "3.6.4"
  }
 },
 "nbformat": 4,
 "nbformat_minor": 2
}
